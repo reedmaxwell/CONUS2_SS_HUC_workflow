{
 "cells": [
  {
   "cell_type": "markdown",
   "id": "88be9f54",
   "metadata": {},
   "source": [
    "### import libraries and register pin \n",
    "\n",
    "In all examples you will need to import the following packages and register your pin in order to have access to the HydroData datasets\n",
    "\n",
    "Refer to the [getting started](https://hydroframesubsettools.readthedocs.io/en/latest/getting_started.html) instructions for creating your pin if you have not done this already."
   ]
  },
  {
   "cell_type": "code",
   "execution_count": null,
   "id": "61d84526-545e-41c4-a7c2-c2c4aee3f878",
   "metadata": {},
   "outputs": [],
   "source": [
    "import subsettools as st\n",
    "import hf_hydrodata as hf\n",
    "from parflow import Run\n",
    "\n",
    "# register PIN / sign up here: https://hydrogen.princeton.edu/pin\n",
    "# hf.register_api_pin(\"<email>\", \"<PIN>\")"
   ]
  },
  {
   "cell_type": "markdown",
   "id": "56f5f9e0-4541-47d1-ba06-d73e0a9c3f98",
   "metadata": {},
   "source": [
    "### get a template runscript"
   ]
  },
  {
   "cell_type": "code",
   "execution_count": null,
   "id": "0331f10f-633d-4ece-9474-36c4641525c7",
   "metadata": {},
   "outputs": [],
   "source": [
    "# set static data directory and run name\n",
    "# set a directory for the files to be written\n",
    "# uncomment and set the path to your desired directory and include the HUC number\n",
    "#static_write_dir = \"/Users/<path>/<to>/<your>/<files>/huc0205\"\n",
    "\n",
    "#set the runname to be the HUC number you are working with\n",
    "runname = \"HUC0205\"\n",
    "\n",
    "template_run = st.get_template_runscript(\n",
    "    grid=\"conus2\", \n",
    "    mode=\"spinup\", \n",
    "    input_file_type=\"solid\",\n",
    "    write_dir=static_write_dir,\n",
    ")"
   ]
  },
  {
   "cell_type": "markdown",
   "id": "a09dfacf-f441-4003-a24f-85781a161021",
   "metadata": {},
   "source": [
    "### Modify a template runscript for a subset domain \n",
    "The runscript template is configured for a national simulation. To run on a smaller domain you need to: \n",
    "1. Adjust the size of the model to match your subset domain\n",
    "2. Update the path to the model input files to match the clipped inputs for your subset domain (refer to the subset tutorials or sample workflow for examples of subsetting input files)\n",
    "\n",
    "#### Modify the size of the model domain to math your subset\n",
    "First we adjust the size of the model run (nx, ny) to match the dimensions of our subset area which we obtain using the i,j bounds function and provide the path to the subset forcing files. \n",
    "\n",
    "The `edit_runscript_for_subset` function (API reference [here](https://hydroframesubsettools.readthedocs.io/en/latest/autoapi/subsettools/index.html#subsettools.edit_runscript_for_subset)) will accomplish these two jobs. \n",
    "\n",
    "**NOTE:** *If you don't provide a write_dir argument, the new runscript is going to be written in the directory or the original runscript. The filename depends on the runname, so if you also don't change the runname the original runscript file will be overwritten.*"
   ]
  },
  {
   "cell_type": "code",
   "execution_count": null,
   "id": "97d055f7-5a38-4f5b-8332-bbf6dd84b1d4",
   "metadata": {},
   "outputs": [
    {
     "name": "stdout",
     "output_type": "stream",
     "text": [
      "bounding box: (3672, 1827, 3963, 2223)\n",
      "New runname: HUC0205 provided, a new yaml file will be created\n",
      "Climate forcing directory has been changed to /Users/reed/Projects/headwaters_particles/huc0205  in runscript.\n",
      "ComputationalGrid.NY set to 396 and NX to 291\n",
      "GeomInput.domaininput.InputType detected as SolidFile, no additional keys to change for subset\n",
      "Updated runscript written to /Users/reed/Projects/headwaters_particles/huc0205\n",
      "----------------------------------------------------------------------------------------------------\n",
      "New runname: HUC0205\n",
      "New grid nx, ny: 291 396\n",
      "Forcing directory: /Users/reed/Projects/headwaters_particles/huc0205\n"
     ]
    }
   ],
   "source": [
    "# change the hucs=[\"0205\"] to the desired HUC4\n",
    "ij_huc_bounds, _ = st.define_huc_domain(hucs=[\"0205\"], grid=\"conus2\")\n",
    "print(f\"bounding box: {ij_huc_bounds}\")\n",
    "\n",
    "\n",
    "#Edit the runscript to match this subset\n",
    "runscript_path = st.edit_runscript_for_subset(\n",
    "    ij_bounds=ij_huc_bounds,\n",
    "    runscript_path=template_run,\n",
    "    runname=runname,\n",
    "    forcing_dir=static_write_dir,\n",
    ")\n",
    "\n",
    "#Print out the keys of the new run to confirm the changes\n",
    "run = Run.from_definition(runscript_path)\n",
    "print('-' * 100)\n",
    "print(\"New runname:\", run.get_name())\n",
    "print(\"New grid nx, ny:\", run.ComputationalGrid.NX, run.ComputationalGrid.NY)\n",
    "print(\"Forcing directory:\", run.Solver.CLM.MetFilePath)"
   ]
  },
  {
   "cell_type": "markdown",
   "id": "757e171d-5538-41d8-be51-32f79293d536",
   "metadata": {},
   "source": [
    "### Modify file paths for inputs in the runscript\n",
    "We use the subsettools `change_filename_values` function  (API reference [here](https://hydroframesubsettools.readthedocs.io/en/latest/autoapi/subsettools/index.html#subsettools.change_filename_values)) to modify the filenames for the input files of our runscript. \n",
    "\n",
    "The filenames which can be updated from this function are: \n",
    "- Slope x (`slopex`)\n",
    "- Slopey y (`slopey`)\n",
    "- Soild File (`solidfile`)\n",
    "- Initial Pressure(`init_press`)\n",
    "- Subsurface Indicator (`indicator`)\n",
    "- Depth to bedrock (`depth_to_bedrock`)  **note this is the flow barrier file not really depth to bedrock**\n",
    "- Mannings Roughness (`mannings`)\n",
    "- Evapotranspiration P-ET (`evap_trans`)\n"
   ]
  },
  {
   "cell_type": "code",
   "execution_count": 9,
   "id": "0e9c8b13-533e-4bcb-a78a-7534d2e91219",
   "metadata": {},
   "outputs": [
    {
     "name": "stdout",
     "output_type": "stream",
     "text": [
      "X Slopes filename changed to slope_x.pfb\n",
      "Y Slopes filename changed to slope_y.pfb\n",
      "Initial pressure filename changed to ss_pressure_head.pfb\n",
      "Indicator filename changed to pf_indicator.pfb\n",
      "Depth to bedrock filename changed to pf_flowbarrier.pfb\n",
      "Mannings filename changed to mannings.pfb\n",
      "Updated runscript written to /Users/reed/Projects/headwaters_particles/huc0205\n"
     ]
    }
   ],
   "source": [
    "# change the file names for the initial pressure, mannings and slope_x, slope_y data in the runscript:\n",
    "runscript_path = st.change_filename_values(    \n",
    "    runscript_path=runscript_path,\n",
    "    init_press='ss_pressure_head.pfb', \n",
    "    depth_to_bedrock='pf_flowbarrier.pfb',\n",
    "    indicator='pf_indicator.pfb',\n",
    "    mannings='mannings.pfb',\n",
    "    slopex='slope_x.pfb',\n",
    "    slopey='slope_y.pfb',\n",
    ")"
   ]
  },
  {
   "cell_type": "code",
   "execution_count": 10,
   "id": "7299fef8-df9a-448a-9b42-94b4a7d8f2db",
   "metadata": {},
   "outputs": [
    {
     "name": "stderr",
     "output_type": "stream",
     "text": [
      "/tmp/ipykernel_52470/1852637705.py:2: DeprecationWarning: keyword argument 'P' is no longer valid. Use 'topo_p' instead.\n",
      "  runscript_path = st.dist_run(\n",
      "/tmp/ipykernel_52470/1852637705.py:2: DeprecationWarning: keyword argument 'Q' is no longer valid. Use 'topo_q' instead.\n",
      "  runscript_path = st.dist_run(\n"
     ]
    },
    {
     "name": "stdout",
     "output_type": "stream",
     "text": [
      "No forcing directory provided, only distributing static inputs\n",
      "Distributed ss_pressure_head.pfb with NZ 10\n",
      "Distributed pf_flowbarrier.pfb with NZ 10\n",
      "Distributed streams.pfb with NZ 1\n",
      "Distributed pme.pfb with NZ 10\n",
      "Distributed pf_indicator.pfb with NZ 10\n",
      "Distributed slope_x.pfb with NZ 1\n",
      "Distributed mask.pfb with NZ 1\n",
      "Distributed slope_y.pfb with NZ 1\n",
      "Distributed mannings.pfb with NZ 1\n",
      "Distributed dem.pfb with NZ 1\n"
     ]
    }
   ],
   "source": [
    "# distribute input files \n",
    "runscript_path = st.dist_run(\n",
    "    P=1,\n",
    "    Q=1,\n",
    "    runscript_path=runscript_path,\n",
    "    working_dir=static_write_dir,\n",
    "    dist_clim_forcing=False,\n",
    ")"
   ]
  }
 ],
 "metadata": {
  "kernelspec": {
   "display_name": "subsettools",
   "language": "python",
   "name": "python3"
  },
  "language_info": {
   "codemirror_mode": {
    "name": "ipython",
    "version": 3
   },
   "file_extension": ".py",
   "mimetype": "text/x-python",
   "name": "python",
   "nbconvert_exporter": "python",
   "pygments_lexer": "ipython3",
   "version": "3.11.10"
  }
 },
 "nbformat": 4,
 "nbformat_minor": 5
}
