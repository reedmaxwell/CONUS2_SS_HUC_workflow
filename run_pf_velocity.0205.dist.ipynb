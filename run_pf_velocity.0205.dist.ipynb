{
 "cells": [
  {
   "cell_type": "markdown",
   "id": "a421017a",
   "metadata": {},
   "source": [
    "### setup\n",
    "\n",
    "we load the parflow python package"
   ]
  },
  {
   "cell_type": "code",
   "execution_count": 2,
   "id": "61d84526-545e-41c4-a7c2-c2c4aee3f878",
   "metadata": {},
   "outputs": [],
   "source": [
    "\n",
    "from parflow import Run\n"
   ]
  },
  {
   "cell_type": "markdown",
   "id": "e9e6e668-e8da-4429-920e-5da02f885696",
   "metadata": {},
   "source": [
    "### load the yaml file, modify and run\n",
    "\n",
    "Note that we assume here that you already have ParFlow installed where you are running. Please refer to the [HydroFrame](https://hydroframe.org) for help getting started with ParFlow. "
   ]
  },
  {
   "cell_type": "code",
   "execution_count": null,
   "id": "eaecfa7c-d393-4067-9ecd-ab088ac78bc6",
   "metadata": {},
   "outputs": [
    {
     "name": "stdout",
     "output_type": "stream",
     "text": [
      "\n",
      "# ==============================================================================\n",
      "# ParFlow directory\n",
      "#  - /Users/reed/parflow/parflow-1-July-24\n",
      "# ParFlow version\n",
      "#  - 3.13.0\n",
      "# Working directory\n",
      "#  - /Users/reed/Projects/headwaters_particles/huc0205\n",
      "# ParFlow database\n",
      "#  - HUC0205.pfidb\n",
      "# ==============================================================================\n",
      "\n",
      "\n",
      "# ==============================================================================\n",
      "# ParFlow ran successfully\n",
      "# ==============================================================================\n",
      "\n"
     ]
    }
   ],
   "source": [
    "# set the path to the run directory and the run name\n",
    "# the user should change the path to the location of the run directory for the HUC \n",
    "static_write_dir=\"/<path>/<to>/<your>/<run>/huc0205\"\n",
    "runname = \"HUC0205\"\n",
    "\n",
    "runname_file = static_write_dir + \"/\" + runname +'.yaml'\n",
    "\n",
    "# create a run object\n",
    "run = Run.from_definition(runname_file)\n",
    "\n",
    "# add writing the velocity field to the run\n",
    "run.Solver.PrintVelocities = True\n",
    "# change timing\n",
    "run.TimingInfo.BaseUnit = 0.1\n",
    "run.TimingInfo.StartCount = 0\n",
    "run.TimingInfo.StopTime = 0.1\n",
    "run.TimeStep.Type = 'Constant'\n",
    "run.TimeStep.Value = 0.1\n",
    "run.TimingInfo.DumpInterval = -1\n",
    "\n",
    "# launch the run\n",
    "run.run(working_directory=static_write_dir)"
   ]
  }
 ],
 "metadata": {
  "kernelspec": {
   "display_name": "subsettools",
   "language": "python",
   "name": "python3"
  },
  "language_info": {
   "codemirror_mode": {
    "name": "ipython",
    "version": 3
   },
   "file_extension": ".py",
   "mimetype": "text/x-python",
   "name": "python",
   "nbconvert_exporter": "python",
   "pygments_lexer": "ipython3",
   "version": "3.11.10"
  }
 },
 "nbformat": 4,
 "nbformat_minor": 5
}
